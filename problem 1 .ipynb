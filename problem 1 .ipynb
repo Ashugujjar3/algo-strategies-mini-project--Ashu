{
  "nbformat": 4,
  "nbformat_minor": 0,
  "metadata": {
    "colab": {
      "provenance": [],
      "authorship_tag": "ABX9TyP3AiPorS/jbDKz8FVzKagv",
      "include_colab_link": true
    },
    "kernelspec": {
      "name": "python3",
      "display_name": "Python 3"
    },
    "language_info": {
      "name": "python"
    }
  },
  "cells": [
    {
      "cell_type": "markdown",
      "metadata": {
        "id": "view-in-github",
        "colab_type": "text"
      },
      "source": [
        "<a href=\"https://colab.research.google.com/github/Ashugujjar3/algo-strategies-mini-project--Ashu/blob/main/problem%201%20.ipynb\" target=\"_parent\"><img src=\"https://colab.research.google.com/assets/colab-badge.svg\" alt=\"Open In Colab\"/></a>"
      ]
    },
    {
      "cell_type": "markdown",
      "source": [
        "✅ Problem 1: Scheduling TV Commercials to Maximize Impact\n",
        "🔹 Problem Statement\n",
        "\n",
        "We are tasked with scheduling commercials (ads) in available time slots such that the total revenue is maximized.\n",
        "\n",
        "Each ad has:\n",
        "\n",
        "id → identifier of the ad\n",
        "\n",
        "deadline → latest time slot by which it must be aired\n",
        "\n",
        "profit → revenue if scheduled\n",
        "\n",
        "Constraint: Each slot can hold only one ad.\n",
        "\n",
        "This is a classic Job Sequencing Problem solved using a Greedy Strategy.\n"
      ],
      "metadata": {
        "id": "l0ubX1b6cycq"
      }
    },
    {
      "cell_type": "markdown",
      "source": [
        "🔹 Step 1: Algorithmic Strategy (Greedy Approach)\n",
        "\n",
        "Sort ads in descending order of profit.\n",
        "\n",
        "Allocate each ad to the latest available slot before its deadline.\n",
        "\n",
        "If the slot is free, schedule the ad; otherwise, skip it.\n",
        "\n",
        "👉 Greedy works because choosing the most profitable ad first maximizes revenue locally and globally."
      ],
      "metadata": {
        "id": "RKNTbJa8duQa"
      }
    },
    {
      "cell_type": "markdown",
      "source": [
        "🔹 Step 2: Python Implementation"
      ],
      "metadata": {
        "id": "5EoPfgDVc1gp"
      }
    },
    {
      "cell_type": "code",
      "source": [
        "import matplotlib.pyplot as plt\n",
        "import numpy as np\n",
        "\n",
        "# Define an Ad class for better readability\n",
        "class Ad:\n",
        "    def __init__(self, ad_id, deadline, profit):\n",
        "        self.id = ad_id\n",
        "        self.deadline = deadline\n",
        "        self.profit = profit\n",
        "\n",
        "def schedule_ads(ads):\n",
        "    # Step 1: Sort ads by profit in descending order\n",
        "    ads.sort(key=lambda x: x.profit, reverse=True)\n",
        "\n",
        "    # Step 2: Find maximum deadline (slots available)\n",
        "    max_deadline = max(ad.deadline for ad in ads)\n",
        "    slots = [-1] * (max_deadline + 1)  # -1 means slot empty\n",
        "\n",
        "    total_profit = 0\n",
        "    scheduled_ads = []\n",
        "\n",
        "    # Step 3: Greedy allocation\n",
        "    for ad in ads:\n",
        "        # Find a slot for this ad (latest possible before deadline)\n",
        "        for slot in range(ad.deadline, 0, -1):\n",
        "            if slots[slot] == -1:  # slot available\n",
        "                slots[slot] = ad.id\n",
        "                total_profit += ad.profit\n",
        "                scheduled_ads.append(ad)\n",
        "                break\n",
        "\n",
        "    return scheduled_ads, total_profit\n",
        "\n",
        "# Example usage\n",
        "ads = [\n",
        "    Ad(\"A1\", 2, 100),\n",
        "    Ad(\"A2\", 1, 19),\n",
        "    Ad(\"A3\", 2, 27),\n",
        "    Ad(\"A4\", 1, 25),\n",
        "    Ad(\"A5\", 3, 15),\n",
        "]\n",
        "\n",
        "scheduled_ads, total_revenue = schedule_ads(ads)\n",
        "\n",
        "print(\"Scheduled Ads:\", [ad.id for ad in scheduled_ads])\n",
        "print(\"Total Revenue:\", total_revenue)\n"
      ],
      "metadata": {
        "colab": {
          "base_uri": "https://localhost:8080/"
        },
        "id": "d4LqXYc0awsb",
        "outputId": "3d84dd6e-d58b-4f1b-d387-c97c82b20bb2"
      },
      "execution_count": 5,
      "outputs": [
        {
          "output_type": "stream",
          "name": "stdout",
          "text": [
            "Scheduled Ads: ['A1', 'A3', 'A5']\n",
            "Total Revenue: 142\n"
          ]
        }
      ]
    },
    {
      "cell_type": "markdown",
      "source": [
        "🔹 Step 3: Analysis\n",
        "\n",
        "Time Complexity:\n",
        "\n",
        "Sorting → O(n log n)\n",
        "\n",
        "Scheduling → O(n * d) (n = number of ads, d = max deadline)\n",
        "\n",
        "Optimized with Disjoint Set Union (DSU) → O(n log n)\n",
        "\n",
        "Space Complexity:\n",
        "\n",
        "Slots array → O(d)\n",
        "\n",
        "Ads storage → O(n)"
      ],
      "metadata": {
        "id": "rh5_rw6Bc54Z"
      }
    },
    {
      "cell_type": "markdown",
      "source": [
        "🔹 Step 4: Visualization\n",
        "\n",
        "We can simulate varying numbers of ads and plot number of ads vs. total revenue."
      ],
      "metadata": {
        "id": "wB1yZreadFxZ"
      }
    },
    {
      "cell_type": "code",
      "source": [
        "def experiment(num_ads_list):\n",
        "    revenues = []\n",
        "\n",
        "    for n in num_ads_list:\n",
        "        # Random ads: deadlines [1..n], profits [10..100]\n",
        "        ads = [Ad(f\"A{i}\", np.random.randint(1, n//2 + 2), np.random.randint(10, 101)) for i in range(n)]\n",
        "        _, revenue = schedule_ads(ads)\n",
        "        revenues.append(revenue)\n",
        "\n",
        "    return revenues\n",
        "\n",
        "# Experiment\n",
        "num_ads_list = [5, 10, 20, 30, 40, 50]\n",
        "revenues = experiment(num_ads_list)\n",
        "\n",
        "# Plot\n",
        "plt.figure(figsize=(7,5))\n",
        "plt.plot(num_ads_list, revenues, marker='o', linestyle='--')\n",
        "plt.title(\"Number of Ads vs. Total Revenue\")\n",
        "plt.xlabel(\"Number of Ads\")\n",
        "plt.ylabel(\"Total Revenue\")\n",
        "plt.grid(True)\n",
        "plt.show()\n"
      ],
      "metadata": {
        "colab": {
          "base_uri": "https://localhost:8080/",
          "height": 487
        },
        "id": "yUPxSFEfYSM7",
        "outputId": "60d632cd-4691-4553-f113-657b04275694"
      },
      "execution_count": 6,
      "outputs": [
        {
          "output_type": "display_data",
          "data": {
            "text/plain": [
              "<Figure size 700x500 with 1 Axes>"
            ],
            "image/png": "[encoded data removed]"
          },
          "metadata": {}
        }
      ]
    },
    {
      "cell_type": "markdown",
      "source": [
        "🔹 Step 5: Real-World Considerations\n",
        "\n",
        "Ad Runtime: Each commercial has a duration; real scheduling must consider varying lengths.\n",
        "\n",
        "Slot Availability: TV networks have fixed breaks (e.g., 2-min slots), unlike flexible slots in theory.\n",
        "\n",
        "Overlapping Deadlines: Multiple advertisers may demand prime slots; fairness must be balanced with revenue."
      ],
      "metadata": {
        "id": "O421lRfldAAR"
      }
    }
  ]
}